{
 "cells": [
  {
   "cell_type": "code",
   "execution_count": null,
   "metadata": {
    "collapsed": true
   },
   "outputs": [],
   "source": [
    "%matplotlib inline"
   ]
  },
  {
   "cell_type": "code",
   "execution_count": null,
   "metadata": {
    "collapsed": true
   },
   "outputs": [],
   "source": [
    "data_dir = '/scr/ilz1/cbspython_surf/data/'"
   ]
  },
  {
   "cell_type": "markdown",
   "metadata": {},
   "source": [
    "# And if I didn't even use FreeSurfer ?"
   ]
  },
  {
   "cell_type": "markdown",
   "metadata": {},
   "source": [
    "### ASCII coded surface formats can be read / written with pandas (e.g. vtk)"
   ]
  },
  {
   "cell_type": "markdown",
   "metadata": {
    "collapsed": true
   },
   "source": [
    "Very helpful blog post on ASCII surface file formats\n",
    "\n",
    "http://brainder.org/2011/09/25/braindering-with-ascii-files/\n",
    "\n",
    "My repo with some functions that use pandas to read/write surface files\n",
    "\n",
    "https://github.com/juhuntenburg/brainsurfacescripts/blob/master/vtk_rw.py"
   ]
  },
  {
   "cell_type": "code",
   "execution_count": null,
   "metadata": {
    "collapsed": false
   },
   "outputs": [],
   "source": [
    "from vtk_rw import read_vtk, write_vtk\n",
    "import numpy as np"
   ]
  },
  {
   "cell_type": "code",
   "execution_count": null,
   "metadata": {
    "collapsed": true
   },
   "outputs": [],
   "source": [
    "statmap_file = data_dir+'statmap_rh.vtk'\n",
    "rest_file = data_dir+'rest_rh.vtk'"
   ]
  },
  {
   "cell_type": "code",
   "execution_count": null,
   "metadata": {
    "collapsed": false
   },
   "outputs": [],
   "source": [
    "# reading vtk files\n",
    "vertices_map, faces_map, data_map = read_vtk(statmap_file)"
   ]
  },
  {
   "cell_type": "code",
   "execution_count": null,
   "metadata": {
    "collapsed": true
   },
   "outputs": [],
   "source": [
    "vertices_rest, faces_rest, data_rest =read_vtk(rest_file)"
   ]
  },
  {
   "cell_type": "code",
   "execution_count": null,
   "metadata": {
    "collapsed": true
   },
   "outputs": [],
   "source": [
    "# working with the data\n",
    "new_data_rest = data_rest[:, 5:]"
   ]
  },
  {
   "cell_type": "code",
   "execution_count": null,
   "metadata": {
    "collapsed": true
   },
   "outputs": [],
   "source": [
    "# writing vtk files\n",
    "write_vtk('/tmp/test_write.vtk', vertices_rest, faces_rest, new_data_rest)"
   ]
  },
  {
   "cell_type": "markdown",
   "metadata": {},
   "source": [
    "### *But I want to look at my data ...*"
   ]
  },
  {
   "cell_type": "code",
   "execution_count": null,
   "metadata": {
    "collapsed": false
   },
   "outputs": [],
   "source": [
    "import matplotlib.pyplot as plt\n",
    "import seaborn as sns"
   ]
  },
  {
   "cell_type": "code",
   "execution_count": null,
   "metadata": {
    "collapsed": false
   },
   "outputs": [],
   "source": [
    "plt.hist(data_map, bins=50);\n",
    "plt.xlabel('stat value')"
   ]
  },
  {
   "cell_type": "code",
   "execution_count": null,
   "metadata": {
    "collapsed": false
   },
   "outputs": [],
   "source": [
    "plt.plot(data_rest[100,:]);\n",
    "plt.xlabel('time')"
   ]
  },
  {
   "cell_type": "markdown",
   "metadata": {},
   "source": [
    "### *... on the brain!*"
   ]
  },
  {
   "cell_type": "markdown",
   "metadata": {},
   "source": [
    "# Plotting surfaces in pure python"
   ]
  },
  {
   "cell_type": "markdown",
   "metadata": {},
   "source": [
    "### Why?\n",
    "* surfaces not created with Freesurfer\n",
    "* avoiding mayavi dependency\n",
    "* more control of colormaps etc.\n",
    "* automatized figure production e.g. for quality control"
   ]
  },
  {
   "cell_type": "markdown",
   "metadata": {},
   "source": [
    "### Coming in nilearn:\n",
    "\n",
    "https://github.com/juhuntenburg/nilearn/tree/enh/surface_plotting\n",
    "\n",
    "* can handle pure numpy arrays (as dict)\n",
    "* but also includes function to figure out data type for easy use of common formats (Freesurfer, gii, nii)"
   ]
  },
  {
   "cell_type": "code",
   "execution_count": null,
   "metadata": {
    "collapsed": false
   },
   "outputs": [],
   "source": [
    "from nilearn import plotting"
   ]
  },
  {
   "cell_type": "code",
   "execution_count": null,
   "metadata": {
    "collapsed": true
   },
   "outputs": [],
   "source": [
    "# create a mesh dictionary\n",
    "mesh = {}\n",
    "mesh['coords']=vertices_map\n",
    "mesh['faces']=faces_map"
   ]
  },
  {
   "cell_type": "markdown",
   "metadata": {},
   "source": [
    "#### Basic plotting"
   ]
  },
  {
   "cell_type": "code",
   "execution_count": null,
   "metadata": {
    "collapsed": false
   },
   "outputs": [],
   "source": [
    "plot = plotting.plot_surf_stat_map(mesh, 'rh', stat_map=data_map)"
   ]
  },
  {
   "cell_type": "markdown",
   "metadata": {},
   "source": [
    "#### Prettier plotting with sulcal depth map"
   ]
  },
  {
   "cell_type": "code",
   "execution_count": null,
   "metadata": {
    "collapsed": true
   },
   "outputs": [],
   "source": [
    "# now we don't care about the data format, as long as we can read it into a numpy array\n",
    "sulcal_depth_file = data_dir+'sulc_rh.npy'\n",
    "sulc=np.load(sulcal_depth_file)"
   ]
  },
  {
   "cell_type": "code",
   "execution_count": null,
   "metadata": {
    "collapsed": false
   },
   "outputs": [],
   "source": [
    "plot = plotting.plot_surf_stat_map(mesh, 'rh', bg_map=sulc)"
   ]
  },
  {
   "cell_type": "markdown",
   "metadata": {},
   "source": [
    "#### Funkier plotting with inflated meshes"
   ]
  },
  {
   "cell_type": "code",
   "execution_count": null,
   "metadata": {
    "collapsed": true
   },
   "outputs": [],
   "source": [
    "inflated_file = data_dir+'inflated_rh.vtk'\n",
    "v_infl, f_infl, d_infl = read_vtk(inflated_file)\n",
    "mesh_infl = {'coords':v_infl, 'faces':f_infl}"
   ]
  },
  {
   "cell_type": "code",
   "execution_count": null,
   "metadata": {
    "collapsed": false
   },
   "outputs": [],
   "source": [
    "plot = plotting.plot_surf_stat_map(mesh_infl, 'rh', bg_map=sulc, stat_map=data_map, threshold=2, cmap='PuOr')"
   ]
  },
  {
   "cell_type": "markdown",
   "metadata": {},
   "source": [
    "### To do:\n",
    "* Show colorbar\n",
    "* Optimize elev / azimut for non-freesurfer surfaces\n",
    "* Plotting rois / labels"
   ]
  }
 ],
 "metadata": {
  "kernelspec": {
   "display_name": "Python 2",
   "language": "python",
   "name": "python2"
  },
  "language_info": {
   "codemirror_mode": {
    "name": "ipython",
    "version": 2
   },
   "file_extension": ".py",
   "mimetype": "text/x-python",
   "name": "python",
   "nbconvert_exporter": "python",
   "pygments_lexer": "ipython2",
   "version": "2.7.3"
  }
 },
 "nbformat": 4,
 "nbformat_minor": 0
}
