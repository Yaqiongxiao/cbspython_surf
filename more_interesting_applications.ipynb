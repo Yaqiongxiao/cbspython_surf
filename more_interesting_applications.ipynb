{
 "cells": [
  {
   "cell_type": "code",
   "execution_count": null,
   "metadata": {
    "collapsed": true
   },
   "outputs": [],
   "source": [
    "%matplotlib inline"
   ]
  },
  {
   "cell_type": "code",
   "execution_count": null,
   "metadata": {
    "collapsed": true
   },
   "outputs": [],
   "source": [
    "data_dir='/scr/ilz1/cbspython_surf/data/'"
   ]
  },
  {
   "cell_type": "markdown",
   "metadata": {},
   "source": [
    "## Working with surface data (if pretty pictures are not enough..)"
   ]
  },
  {
   "cell_type": "code",
   "execution_count": null,
   "metadata": {
    "collapsed": false
   },
   "outputs": [],
   "source": [
    "import numpy as np\n",
    "import pandas as pd\n",
    "import seaborn as sns\n",
    "import matplotlib.pyplot as plt\n",
    "from vtk_rw import read_vtk, write_vtk"
   ]
  },
  {
   "cell_type": "markdown",
   "metadata": {},
   "source": [
    "### Simplifying a high resolution mesh"
   ]
  },
  {
   "cell_type": "markdown",
   "metadata": {},
   "source": [
    "Is a complex task, maybe not the right place to reinvent the wheel. There are good softwares to do this, like Meshlab (http://meshlab.sourceforge.net/)\n",
    "\n",
    "**But Python can still help us**\n",
    "* with changing between formats (e.g. vtk to ply https://github.com/juhuntenburg/brainsurfacescripts/blob/master/vtk2ply.py)\n",
    "* with checking how good the algorithm perfomed / figuring out the best settings\n",
    "* with mapping from one data to the other and from volumes to the surface\n",
    "* ...\n"
   ]
  },
  {
   "cell_type": "markdown",
   "metadata": {},
   "source": [
    "### Quality assessment of simplified mesh"
   ]
  },
  {
   "cell_type": "markdown",
   "metadata": {},
   "source": [
    "https://github.com/juhuntenburg/brainsurfacescripts/blob/master/meshstats.py"
   ]
  },
  {
   "cell_type": "code",
   "execution_count": null,
   "metadata": {
    "collapsed": true
   },
   "outputs": [],
   "source": [
    "from meshstats import edges_areas_angles, meshstats"
   ]
  },
  {
   "cell_type": "code",
   "execution_count": null,
   "metadata": {
    "collapsed": false
   },
   "outputs": [],
   "source": [
    "# reading in the data\n",
    "orig_file=data_dir + 'complex_mesh_rh.vtk'\n",
    "simple_file = data_dir + 'simple_mesh_rh.vtk'\n",
    "v_orig, f_orig, d_orig = read_vtk(orig_file)\n",
    "v_simple, f_simple, d_simple = read_vtk(simple_file)"
   ]
  },
  {
   "cell_type": "markdown",
   "metadata": {},
   "source": [
    "**NOTE: the simple mesh does not contain data!**"
   ]
  },
  {
   "cell_type": "code",
   "execution_count": null,
   "metadata": {
    "collapsed": false
   },
   "outputs": [],
   "source": [
    "# calculating edge lengths, face areas and angles and some stats on these measures\n",
    "edges_orig, areas_orig, angles_orig =edges_areas_angles(v_orig, f_orig)\n",
    "m_area_orig,s_area_orig,z_area_orig=meshstats(areas_orig)\n",
    "m_edge_orig,s_edge_orig,z_edge_orig=meshstats(edges_orig)\n",
    "m_angle_orig,s_angle_orig,z_angle_orig=meshstats(angles_orig)"
   ]
  },
  {
   "cell_type": "code",
   "execution_count": null,
   "metadata": {
    "collapsed": false
   },
   "outputs": [],
   "source": [
    "# same for simplified mesh\n",
    "edges_simple, areas_simple, angles_simple=edges_areas_angles(v_simple, f_simple)\n",
    "m_area_simple,s_area_simple,z_area_simple=meshstats(areas_simple)\n",
    "m_edge_simple,s_edge_simple,z_edge_simple=meshstats(edges_simple)\n",
    "m_angle_simple,s_angle_simple,z_angle_simple=meshstats(angles_simple)"
   ]
  },
  {
   "cell_type": "code",
   "execution_count": null,
   "metadata": {
    "collapsed": false
   },
   "outputs": [],
   "source": [
    "metrics = [[v_orig.shape[0], f_orig.shape[0], m_edge_orig, s_edge_orig, \n",
    "            m_area_orig, s_area_orig, m_angle_orig, s_angle_orig]]\n",
    "metrics.append([v_simple.shape[0],f_simple.shape[0],m_edge_simple,s_edge_simple, \n",
    "                m_area_simple, s_area_simple, m_angle_simple, s_angle_simple])\n",
    "\n",
    "metrics_df = pd.DataFrame(metrics, index=['orig', 'simple'], \n",
    "                          columns=['# vertex', '# face', \n",
    "                                   'mean edge', 'sdv edge', \n",
    "                                   'mean area', 'sdv area',\n",
    "                                   'mean angle', 'sdv angle'])\n",
    "\n",
    "metrics_df"
   ]
  },
  {
   "cell_type": "code",
   "execution_count": null,
   "metadata": {
    "collapsed": false
   },
   "outputs": [],
   "source": [
    "sns.set_context('poster')\n",
    "fig = plt.figure(figsize=(20,5))\n",
    "plt.suptitle('Edge length distribution', fontsize=20)\n",
    "ax1=fig.add_subplot(121)\n",
    "sns.distplot(edges_orig, hist=False, label='orig', color=sns.xkcd_rgb['medium green'])\n",
    "sns.distplot(edges_simple, hist = False, label='simple', color=sns.cubehelix_palette(3)[2])\n",
    "plt.xlabel('edge length [mm]')\n",
    "\n",
    "ax2=fig.add_subplot(122)\n",
    "sns.distplot(z_edge_orig, hist=False, label='orig', color=sns.xkcd_rgb['medium green'])\n",
    "sns.distplot(z_edge_simple, hist = False, label='simple', color=sns.cubehelix_palette(3)[2])\n",
    "plt.xlabel('edge length [z-score]')"
   ]
  },
  {
   "cell_type": "code",
   "execution_count": null,
   "metadata": {
    "collapsed": false
   },
   "outputs": [],
   "source": [
    "fig = plt.figure(figsize=(20,5))\n",
    "plt.suptitle('Face area distribution', fontsize=20)\n",
    "ax1=fig.add_subplot(121)\n",
    "sns.distplot(areas_orig, hist=False, label='orig', color=sns.xkcd_rgb['medium green'])\n",
    "sns.distplot(areas_simple, hist = False, label='simple', color=sns.cubehelix_palette(3)[2])\n",
    "plt.xlabel('face area [mm^2]')\n",
    "\n",
    "ax2=fig.add_subplot(122)\n",
    "sns.distplot(z_area_orig, hist=False, label='orig', color=sns.xkcd_rgb['medium green'])\n",
    "sns.distplot(z_area_simple, hist = False, label='simple', color=sns.cubehelix_palette(3)[2])\n",
    "plt.xlabel('face area [z-score]')"
   ]
  },
  {
   "cell_type": "code",
   "execution_count": null,
   "metadata": {
    "collapsed": false
   },
   "outputs": [],
   "source": [
    "fig = plt.figure(figsize=(20,5))\n",
    "plt.suptitle('Angle distribution', fontsize=20)\n",
    "ax1=fig.add_subplot(121)\n",
    "sns.distplot(angles_orig, hist=False, label='orig', color=sns.xkcd_rgb['medium green'])\n",
    "sns.distplot(angles_simple, hist = False, label='simple', color=sns.cubehelix_palette(3)[2])\n",
    "plt.xlabel('angles [radians]')\n",
    "\n",
    "ax2=fig.add_subplot(122)\n",
    "sns.distplot(z_angle_orig, hist=False, label='orig', color=sns.xkcd_rgb['medium green'])\n",
    "sns.distplot(z_angle_simple, hist = False, label='simple', color=sns.cubehelix_palette(3)[2])\n",
    "plt.xlabel('angles [z-score]')"
   ]
  },
  {
   "cell_type": "markdown",
   "metadata": {},
   "source": [
    "### Mapping between high and low resolution mesh"
   ]
  },
  {
   "cell_type": "code",
   "execution_count": null,
   "metadata": {
    "collapsed": true
   },
   "outputs": [],
   "source": [
    "from scipy import spatial"
   ]
  },
  {
   "cell_type": "code",
   "execution_count": null,
   "metadata": {
    "collapsed": false
   },
   "outputs": [],
   "source": [
    "# find the vertices on the high resolution mesh, that are closest to the ones on the low resolution mesh\n",
    "inaccuracy, mapping  = spatial.KDTree(v_orig).query(v_simple, k=1)"
   ]
  },
  {
   "cell_type": "code",
   "execution_count": null,
   "metadata": {
    "collapsed": false
   },
   "outputs": [],
   "source": [
    "# check inaccuracy\n",
    "plt.hist(inaccuracy, bins=50);\n",
    "plt.xlabel('inaccuray [mm]')"
   ]
  },
  {
   "cell_type": "code",
   "execution_count": null,
   "metadata": {
    "collapsed": false
   },
   "outputs": [],
   "source": [
    "# get the data at these vertices and write it on the low resolution mesh\n",
    "data_simple = d_orig[mapping]\n",
    "write_vtk('/tmp/simple_mesh_rh_data.vtk', v_simple, f_simple, data_simple)"
   ]
  },
  {
   "cell_type": "markdown",
   "metadata": {},
   "source": [
    "Ideally, one would not want to sample only from the closest vertex on the highres mesh but from all vertices in the area. More on this here:\n",
    "https://github.com/juhuntenburg/brainsurfacescripts/blob/master/simplification.py"
   ]
  },
  {
   "cell_type": "markdown",
   "metadata": {},
   "source": [
    "### Sampling data from volume to surface"
   ]
  },
  {
   "cell_type": "code",
   "execution_count": null,
   "metadata": {
    "collapsed": true
   },
   "outputs": [],
   "source": [
    "import nibabel as nb"
   ]
  },
  {
   "cell_type": "markdown",
   "metadata": {
    "collapsed": true
   },
   "source": [
    "Load volume data and parcellation"
   ]
  },
  {
   "cell_type": "code",
   "execution_count": null,
   "metadata": {
    "collapsed": false
   },
   "outputs": [],
   "source": [
    "rest_file = data_dir+'rest_vol.nii.gz'\n",
    "label_file = data_dir+'labels_simple_rh.npy'"
   ]
  },
  {
   "cell_type": "code",
   "execution_count": null,
   "metadata": {
    "collapsed": false
   },
   "outputs": [],
   "source": [
    "rest_img = nb.load(rest_file)\n",
    "rest_data = rest_img.get_data()\n",
    "rest_affine = rest_img.get_affine()"
   ]
  },
  {
   "cell_type": "code",
   "execution_count": null,
   "metadata": {
    "collapsed": false
   },
   "outputs": [],
   "source": [
    "labels = np.load(label_file)"
   ]
  },
  {
   "cell_type": "markdown",
   "metadata": {
    "collapsed": true
   },
   "source": [
    "Figure out how to translate the mesh coordinates into volume space"
   ]
  },
  {
   "cell_type": "code",
   "execution_count": null,
   "metadata": {
    "collapsed": true
   },
   "outputs": [],
   "source": [
    "# volume dimensions\n",
    "dim = [rest_affine[0,0], rest_affine[1,1], rest_affine[2,2]]\n",
    "dim = np.round(dim, 1)"
   ]
  },
  {
   "cell_type": "code",
   "execution_count": null,
   "metadata": {
    "collapsed": false
   },
   "outputs": [],
   "source": [
    "# test by creating a volume that has a one at each voxel that would be sampled by the mesh\n",
    "fake = np.zeros((rest_data.shape[:3]))\n",
    "idx = np.asarray(np.round(v_orig/dim), dtype='int64')\n",
    "fake[idx[:,0],idx[:,1],idx[:,2]] += 1"
   ]
  },
  {
   "cell_type": "code",
   "execution_count": null,
   "metadata": {
    "collapsed": false
   },
   "outputs": [],
   "source": [
    "# plot the fake sampling on top of the volume\n",
    "s=50\n",
    "sns.set_style('dark')\n",
    "plt.imshow(rest_data[:,:,s, 0], cmap='gray')\n",
    "plt.imshow(fake[:,:,s], cmap='Reds', alpha=0.5)"
   ]
  },
  {
   "cell_type": "markdown",
   "metadata": {},
   "source": [
    "Sample resting state data on mesh and average within rois"
   ]
  },
  {
   "cell_type": "code",
   "execution_count": null,
   "metadata": {
    "collapsed": true
   },
   "outputs": [],
   "source": [
    "# actually sampling the resting state data (here on the low resolution mesh for speed)\n",
    "idx = np.asarray(np.round(v_simple/dim), dtype='int64')\n",
    "rest_mesh = rest_data[idx[:,0],idx[:,1],idx[:,2]]"
   ]
  },
  {
   "cell_type": "code",
   "execution_count": null,
   "metadata": {
    "collapsed": false
   },
   "outputs": [],
   "source": [
    "# averaging within parcellation rois\n",
    "label_data = np.empty((int(labels.max()+1), rest_mesh.shape[1]))\n",
    "for l in range(int(labels.max()+1)):\n",
    "    patch = np.where(labels==l)[0]\n",
    "    patch_data = rest_mesh[patch]\n",
    "    patch_mean = np.mean(patch_data, axis=0)\n",
    "    label_data[l] = patch_mean"
   ]
  },
  {
   "cell_type": "markdown",
   "metadata": {},
   "source": [
    "View the results"
   ]
  },
  {
   "cell_type": "code",
   "execution_count": null,
   "metadata": {
    "collapsed": true
   },
   "outputs": [],
   "source": [
    "# plot timeseries, average ans labels for single label\n",
    "l = 6"
   ]
  },
  {
   "cell_type": "code",
   "execution_count": null,
   "metadata": {
    "collapsed": false
   },
   "outputs": [],
   "source": [
    "sns.set_context('poster')\n",
    "sns.set_style('darkgrid')\n",
    "fig =plt.figure(figsize=(20,10))\n",
    "for i in range(np.where(labels==l)[0].shape[0]):\n",
    "    plt.plot(rest_mesh[np.where(labels==l)[0][i]], color='gray', alpha=0.2, lw=1)\n",
    "plt.plot(label_data[l], label='mean', color='r', lw=2, alpha=0.7)\n",
    "plt.title('Label %s'%(l))"
   ]
  },
  {
   "cell_type": "code",
   "execution_count": null,
   "metadata": {
    "collapsed": true
   },
   "outputs": [],
   "source": [
    "single_label = np.zeros_like(labels)\n",
    "single_label[np.where(labels==l)[0]]=1"
   ]
  },
  {
   "cell_type": "code",
   "execution_count": null,
   "metadata": {
    "collapsed": true
   },
   "outputs": [],
   "source": [
    "# this is a variant of the nilearn function with less overhead and more parameter flexibility\n",
    "# https://github.com/juhuntenburg/brainsurfacescripts/blob/master/plotting.py\n",
    "from plotting import plot_surf_stat_map"
   ]
  },
  {
   "cell_type": "code",
   "execution_count": null,
   "metadata": {
    "collapsed": false
   },
   "outputs": [],
   "source": [
    "sns.set_style('white')\n",
    "plot = plot_surf_stat_map(v_simple, f_simple, stat_map=single_label, elev=-160, \n",
    "                          threshold=0.5, alpha=0.2, figsize=(11,10))\n",
    "plt.title('Label %s'%l)"
   ]
  },
  {
   "cell_type": "markdown",
   "metadata": {},
   "source": [
    "### Take a walk on the surface"
   ]
  },
  {
   "cell_type": "markdown",
   "metadata": {},
   "source": [
    "http://nbviewer.ipython.org/github/juhuntenburg/myelinconnect/blob/master/notebooks/path_windows.ipynb"
   ]
  }
 ],
 "metadata": {
  "kernelspec": {
   "display_name": "Python 2",
   "language": "python",
   "name": "python2"
  },
  "language_info": {
   "codemirror_mode": {
    "name": "ipython",
    "version": 2
   },
   "file_extension": ".py",
   "mimetype": "text/x-python",
   "name": "python",
   "nbconvert_exporter": "python",
   "pygments_lexer": "ipython2",
   "version": "2.7.3"
  }
 },
 "nbformat": 4,
 "nbformat_minor": 0
}
