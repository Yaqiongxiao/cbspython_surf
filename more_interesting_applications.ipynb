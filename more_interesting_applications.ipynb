{
 "cells": [
  {
   "cell_type": "code",
   "execution_count": null,
   "metadata": {
    "collapsed": true
   },
   "outputs": [],
   "source": [
    "%matplotlib inline"
   ]
  },
  {
   "cell_type": "code",
   "execution_count": null,
   "metadata": {
    "collapsed": true
   },
   "outputs": [],
   "source": [
    "data_dir='/scr/ilz1/cbspython_surf/data/'"
   ]
  },
  {
   "cell_type": "markdown",
   "metadata": {},
   "source": [
    "## Analysing surface data (if pretty pictures are not enough..)"
   ]
  },
  {
   "cell_type": "code",
   "execution_count": null,
   "metadata": {
    "collapsed": false
   },
   "outputs": [],
   "source": [
    "import numpy as np\n",
    "import pandas as pd\n",
    "import seaborn as sns\n",
    "import matplotlib.pyplot as plt\n",
    "from vtk_rw import read_vtk, write_vtk\n",
    "from plotting import plot_surf_stat_map"
   ]
  },
  {
   "cell_type": "markdown",
   "metadata": {},
   "source": [
    "### Simplifying a high resolution mesh"
   ]
  },
  {
   "cell_type": "markdown",
   "metadata": {},
   "source": [
    "Is a complex task, maybe not the right place to reinvent the wheel. There are good softwares to do this, like Meshlab (http://meshlab.sourceforge.net/)\n",
    "\n",
    "**But Python can still help us**\n",
    "* with changing between formats (e.g. vtk to ply https://github.com/juhuntenburg/brainsurfacescripts/blob/master/vtk2ply.py)\n",
    "* with checking how good the algorithm perfomed / figuring out the best settings\n",
    "* with mapping from one data to the other and from volumes to the surface\n",
    "* ...\n"
   ]
  },
  {
   "cell_type": "markdown",
   "metadata": {},
   "source": [
    "### Quality assessment of simplified mesh"
   ]
  },
  {
   "cell_type": "markdown",
   "metadata": {},
   "source": [
    "https://github.com/juhuntenburg/brainsurfacescripts/blob/master/meshstats.py"
   ]
  },
  {
   "cell_type": "code",
   "execution_count": null,
   "metadata": {
    "collapsed": true
   },
   "outputs": [],
   "source": [
    "from meshstats import edges_areas_angles, meshstats"
   ]
  },
  {
   "cell_type": "code",
   "execution_count": null,
   "metadata": {
    "collapsed": false
   },
   "outputs": [],
   "source": [
    "# reading in the data\n",
    "orig_file=data_dir + 'complex_mesh_rh.vtk'\n",
    "simple_file = data_dir + 'simple_mesh_rh.vtk'\n",
    "v_orig, f_orig, d_orig = read_vtk(orig_file)\n",
    "v_simple, f_simple, d_simple = read_vtk(simple_file)"
   ]
  },
  {
   "cell_type": "markdown",
   "metadata": {},
   "source": [
    "**NOTE: the simple mesh does not contain data!**"
   ]
  },
  {
   "cell_type": "code",
   "execution_count": null,
   "metadata": {
    "collapsed": false
   },
   "outputs": [],
   "source": [
    "# calculating edge lengths, face areas and angles and some stats on these measures\n",
    "edges_orig, areas_orig, angles_orig =edges_areas_angles(v_orig, f_orig)\n",
    "m_area_orig,s_area_orig,z_area_orig=meshstats(areas_orig)\n",
    "m_edge_orig,s_edge_orig,z_edge_orig=meshstats(edges_orig)\n",
    "m_angle_orig,s_angle_orig,z_angle_orig=meshstats(angles_orig)"
   ]
  },
  {
   "cell_type": "code",
   "execution_count": null,
   "metadata": {
    "collapsed": false
   },
   "outputs": [],
   "source": [
    "# same for simplified mesh\n",
    "edges_simple, areas_simple, angles_simple=edges_areas_angles(v_simple, f_simple)\n",
    "m_area_simple,s_area_simple,z_area_simple=meshstats(areas_simple)\n",
    "m_edge_simple,s_edge_simple,z_edge_simple=meshstats(edges_simple)\n",
    "m_angle_simple,s_angle_simple,z_angle_simple=meshstats(angles_simple)"
   ]
  },
  {
   "cell_type": "code",
   "execution_count": null,
   "metadata": {
    "collapsed": false
   },
   "outputs": [],
   "source": [
    "metrics = [[v_orig.shape[0], f_orig.shape[0], m_edge_orig, s_edge_orig, \n",
    "            m_area_orig, s_area_orig, m_angle_orig, s_angle_orig]]\n",
    "metrics.append([v_simple.shape[0],f_simple.shape[0],m_edge_simple,s_edge_simple, \n",
    "                m_area_simple, s_area_simple, m_angle_simple, s_angle_simple])\n",
    "\n",
    "metrics_df = pd.DataFrame(metrics, index=['orig', 'simple'], \n",
    "                          columns=['# vertex', '# face', \n",
    "                                   'mean edge', 'sdv edge', \n",
    "                                   'mean area', 'sdv area',\n",
    "                                   'mean angle', 'sdv angle'])\n",
    "\n",
    "metrics_df"
   ]
  },
  {
   "cell_type": "code",
   "execution_count": null,
   "metadata": {
    "collapsed": false
   },
   "outputs": [],
   "source": [
    "sns.set_context('poster')\n",
    "fig = plt.figure(figsize=(20,5))\n",
    "plt.suptitle('Edge length distribution', fontsize=20)\n",
    "ax1=fig.add_subplot(121)\n",
    "sns.distplot(edges_orig, hist=False, label='orig', color=sns.xkcd_rgb['medium green'])\n",
    "sns.distplot(edges_simple, hist = False, label='simple', color=sns.cubehelix_palette(3)[2])\n",
    "plt.xlabel('edge length [mm]')\n",
    "\n",
    "ax2=fig.add_subplot(122)\n",
    "sns.distplot(z_edge_orig, hist=False, label='orig', color=sns.xkcd_rgb['medium green'])\n",
    "sns.distplot(z_edge_simple, hist = False, label='simple', color=sns.cubehelix_palette(3)[2])\n",
    "plt.xlabel('edge length [z-score]')"
   ]
  },
  {
   "cell_type": "code",
   "execution_count": null,
   "metadata": {
    "collapsed": false
   },
   "outputs": [],
   "source": [
    "fig = plt.figure(figsize=(20,5))\n",
    "plt.suptitle('Face area distribution', fontsize=20)\n",
    "ax1=fig.add_subplot(121)\n",
    "sns.distplot(areas_orig, hist=False, label='orig', color=sns.xkcd_rgb['medium green'])\n",
    "sns.distplot(areas_simple, hist = False, label='simple', color=sns.cubehelix_palette(3)[2])\n",
    "plt.xlabel('face area [mm^2]')\n",
    "\n",
    "ax2=fig.add_subplot(122)\n",
    "sns.distplot(z_area_orig, hist=False, label='orig', color=sns.xkcd_rgb['medium green'])\n",
    "sns.distplot(z_area_simple, hist = False, label='simple', color=sns.cubehelix_palette(3)[2])\n",
    "plt.xlabel('face area [z-score]')"
   ]
  },
  {
   "cell_type": "code",
   "execution_count": null,
   "metadata": {
    "collapsed": false
   },
   "outputs": [],
   "source": [
    "fig = plt.figure(figsize=(20,5))\n",
    "plt.suptitle('Angle distribution', fontsize=20)\n",
    "ax1=fig.add_subplot(121)\n",
    "sns.distplot(angles_orig, hist=False, label='orig', color=sns.xkcd_rgb['medium green'])\n",
    "sns.distplot(angles_simple, hist = False, label='simple', color=sns.cubehelix_palette(3)[2])\n",
    "plt.xlabel('angles [radians]')\n",
    "\n",
    "ax2=fig.add_subplot(122)\n",
    "sns.distplot(z_angle_orig, hist=False, label='orig', color=sns.xkcd_rgb['medium green'])\n",
    "sns.distplot(z_angle_simple, hist = False, label='simple', color=sns.cubehelix_palette(3)[2])\n",
    "plt.xlabel('angles [z-score]')"
   ]
  },
  {
   "cell_type": "markdown",
   "metadata": {},
   "source": [
    "### Mapping between high and low resolution mesh"
   ]
  },
  {
   "cell_type": "code",
   "execution_count": null,
   "metadata": {
    "collapsed": true
   },
   "outputs": [],
   "source": [
    "from scipy import spatial"
   ]
  },
  {
   "cell_type": "code",
   "execution_count": null,
   "metadata": {
    "collapsed": false
   },
   "outputs": [],
   "source": [
    "# find the vertices on the high resolution mesh, that are closest to the ones on the low resolution mesh\n",
    "inaccuracy, mapping  = spatial.KDTree(v_orig).query(v_simple, k=1)"
   ]
  },
  {
   "cell_type": "code",
   "execution_count": null,
   "metadata": {
    "collapsed": false
   },
   "outputs": [],
   "source": [
    "# check inaccuracy\n",
    "plt.hist(inaccuracy, bins=50);\n",
    "plt.xlabel('inaccuray [mm]')"
   ]
  },
  {
   "cell_type": "code",
   "execution_count": null,
   "metadata": {
    "collapsed": false
   },
   "outputs": [],
   "source": [
    "# get the data at these vertices and write it on the low resolution mesh\n",
    "data_simple = d_orig[mapping]\n",
    "write_vtk('/tmp/simple_mesh_rh_data.vtk', v_simple, f_simple, data_simple)"
   ]
  },
  {
   "cell_type": "markdown",
   "metadata": {},
   "source": [
    "Ideally, one would not want to sample only from the closest vertex on the highres mesh but from all vertices in the area. More on this here:\n",
    "https://github.com/juhuntenburg/brainsurfacescripts/blob/master/simplification.py"
   ]
  },
  {
   "cell_type": "markdown",
   "metadata": {},
   "source": [
    "### Sampling data from volume to surface"
   ]
  },
  {
   "cell_type": "code",
   "execution_count": null,
   "metadata": {
    "collapsed": true
   },
   "outputs": [],
   "source": [
    "from simplification import sample_volume, sample_simple"
   ]
  },
  {
   "cell_type": "code",
   "execution_count": null,
   "metadata": {
    "collapsed": true
   },
   "outputs": [],
   "source": [
    "# load volume data and parcellation"
   ]
  },
  {
   "cell_type": "code",
   "execution_count": null,
   "metadata": {
    "collapsed": true
   },
   "outputs": [],
   "source": [
    "# sample the volume data to the "
   ]
  },
  {
   "cell_type": "markdown",
   "metadata": {},
   "source": [
    "### Take a walk on the surface"
   ]
  },
  {
   "cell_type": "code",
   "execution_count": null,
   "metadata": {
    "collapsed": false
   },
   "outputs": [],
   "source": [
    "plot = plot_surf_stat_map(v_orig, f_orig, stat_map=np.squeeze(d_orig), elev=205, azim=0)"
   ]
  },
  {
   "cell_type": "code",
   "execution_count": null,
   "metadata": {
    "collapsed": true
   },
   "outputs": [],
   "source": []
  }
 ],
 "metadata": {
  "kernelspec": {
   "display_name": "Python 2",
   "language": "python",
   "name": "python2"
  },
  "language_info": {
   "codemirror_mode": {
    "name": "ipython",
    "version": 2
   },
   "file_extension": ".py",
   "mimetype": "text/x-python",
   "name": "python",
   "nbconvert_exporter": "python",
   "pygments_lexer": "ipython2",
   "version": "2.7.3"
  }
 },
 "nbformat": 4,
 "nbformat_minor": 0
}
